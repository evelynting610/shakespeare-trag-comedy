{
 "cells": [
  {
   "cell_type": "code",
   "execution_count": 1,
   "metadata": {
    "collapsed": false
   },
   "outputs": [],
   "source": [
    "import os, sys, json\n",
    "import pandas as pd\n",
    "\n",
    "dir_name = \"/Users/evelynting/Desktop/thesis/loans_lenders\"\n",
    "files = [f for f in os.listdir(dir_name) ]\n",
    "df_1 = None\n",
    "for file_name in files:\n",
    "    with open(dir_name + '/' + file_name) as f:\n",
    "        df_i=pd.DataFrame(json.loads(l.replace('\\n', '')) for l in f)\n",
    "    if df_1 is None:\n",
    "        df_1 = df_i\n",
    "    else:\n",
    "        df_1 = df_1.append(df_i, ignore_index=True)"
   ]
  },
  {
   "cell_type": "code",
   "execution_count": 2,
   "metadata": {
    "collapsed": false
   },
   "outputs": [
    {
     "data": {
      "text/html": [
       "<div>\n",
       "<table border=\"1\" class=\"dataframe\">\n",
       "  <thead>\n",
       "    <tr style=\"text-align: right;\">\n",
       "      <th></th>\n",
       "      <th>header</th>\n",
       "      <th>loans_lenders</th>\n",
       "    </tr>\n",
       "  </thead>\n",
       "  <tbody>\n",
       "    <tr>\n",
       "      <th>0</th>\n",
       "      <td>{'page_size': 1000, 'date': '2016-07-18T17:22:...</td>\n",
       "      <td>[{'id': 1117626, 'lender_ids': None}, {'id': 1...</td>\n",
       "    </tr>\n",
       "    <tr>\n",
       "      <th>1</th>\n",
       "      <td>{'page_size': 1000, 'date': '2016-07-18T17:22:...</td>\n",
       "      <td>[{'id': 62703, 'lender_ids': None}, {'id': 872...</td>\n",
       "    </tr>\n",
       "    <tr>\n",
       "      <th>2</th>\n",
       "      <td>{'page_size': 1000, 'date': '2016-07-18T17:22:...</td>\n",
       "      <td>[{'id': 1116006, 'lender_ids': None}, {'id': 1...</td>\n",
       "    </tr>\n",
       "    <tr>\n",
       "      <th>3</th>\n",
       "      <td>{'page_size': 1000, 'date': '2016-07-18T17:22:...</td>\n",
       "      <td>[{'id': 493437, 'lender_ids': None}, {'id': 62...</td>\n",
       "    </tr>\n",
       "    <tr>\n",
       "      <th>4</th>\n",
       "      <td>{'page_size': 1000, 'date': '2016-07-18T17:22:...</td>\n",
       "      <td>[{'id': 39852, 'lender_ids': None}, {'id': 562...</td>\n",
       "    </tr>\n",
       "    <tr>\n",
       "      <th>5</th>\n",
       "      <td>{'page_size': 1000, 'date': '2016-07-18T17:22:...</td>\n",
       "      <td>[{'id': 1113457, 'lender_ids': None}, {'id': 1...</td>\n",
       "    </tr>\n",
       "    <tr>\n",
       "      <th>6</th>\n",
       "      <td>{'page_size': 1000, 'date': '2016-07-18T17:22:...</td>\n",
       "      <td>[{'id': 445998, 'lender_ids': None}, {'id': 55...</td>\n",
       "    </tr>\n",
       "    <tr>\n",
       "      <th>7</th>\n",
       "      <td>{'page_size': 1000, 'date': '2016-07-18T17:22:...</td>\n",
       "      <td>[{'id': 448309, 'lender_ids': None}, {'id': 49...</td>\n",
       "    </tr>\n",
       "    <tr>\n",
       "      <th>8</th>\n",
       "      <td>{'page_size': 1000, 'date': '2016-07-18T17:22:...</td>\n",
       "      <td>[{'id': 898038, 'lender_ids': None}, {'id': 11...</td>\n",
       "    </tr>\n",
       "    <tr>\n",
       "      <th>9</th>\n",
       "      <td>{'page_size': 1000, 'date': '2016-07-18T17:22:...</td>\n",
       "      <td>[{'id': 402334, 'lender_ids': None}, {'id': 49...</td>\n",
       "    </tr>\n",
       "  </tbody>\n",
       "</table>\n",
       "</div>"
      ],
      "text/plain": [
       "                                              header  \\\n",
       "0  {'page_size': 1000, 'date': '2016-07-18T17:22:...   \n",
       "1  {'page_size': 1000, 'date': '2016-07-18T17:22:...   \n",
       "2  {'page_size': 1000, 'date': '2016-07-18T17:22:...   \n",
       "3  {'page_size': 1000, 'date': '2016-07-18T17:22:...   \n",
       "4  {'page_size': 1000, 'date': '2016-07-18T17:22:...   \n",
       "5  {'page_size': 1000, 'date': '2016-07-18T17:22:...   \n",
       "6  {'page_size': 1000, 'date': '2016-07-18T17:22:...   \n",
       "7  {'page_size': 1000, 'date': '2016-07-18T17:22:...   \n",
       "8  {'page_size': 1000, 'date': '2016-07-18T17:22:...   \n",
       "9  {'page_size': 1000, 'date': '2016-07-18T17:22:...   \n",
       "\n",
       "                                       loans_lenders  \n",
       "0  [{'id': 1117626, 'lender_ids': None}, {'id': 1...  \n",
       "1  [{'id': 62703, 'lender_ids': None}, {'id': 872...  \n",
       "2  [{'id': 1116006, 'lender_ids': None}, {'id': 1...  \n",
       "3  [{'id': 493437, 'lender_ids': None}, {'id': 62...  \n",
       "4  [{'id': 39852, 'lender_ids': None}, {'id': 562...  \n",
       "5  [{'id': 1113457, 'lender_ids': None}, {'id': 1...  \n",
       "6  [{'id': 445998, 'lender_ids': None}, {'id': 55...  \n",
       "7  [{'id': 448309, 'lender_ids': None}, {'id': 49...  \n",
       "8  [{'id': 898038, 'lender_ids': None}, {'id': 11...  \n",
       "9  [{'id': 402334, 'lender_ids': None}, {'id': 49...  "
      ]
     },
     "execution_count": 2,
     "metadata": {},
     "output_type": "execute_result"
    }
   ],
   "source": [
    "df_1.head(10)"
   ]
  },
  {
   "cell_type": "code",
   "execution_count": 6,
   "metadata": {
    "collapsed": false
   },
   "outputs": [],
   "source": [
    "df_1[\"tags\"].to_csv(\"rovertags.csv\")"
   ]
  },
  {
   "cell_type": "code",
   "execution_count": 17,
   "metadata": {
    "collapsed": false
   },
   "outputs": [],
   "source": [
    "df_1['safe_text'] = df_1.apply(lambda x: x['text'].replace('\\n', ' '), axis=1)"
   ]
  },
  {
   "cell_type": "code",
   "execution_count": 18,
   "metadata": {
    "collapsed": true
   },
   "outputs": [],
   "source": [
    "df_1[\"safe_text\"].to_csv(\"rovertext.csv\", encoding=\"utf-8\")"
   ]
  },
  {
   "cell_type": "code",
   "execution_count": null,
   "metadata": {
    "collapsed": true
   },
   "outputs": [],
   "source": []
  }
 ],
 "metadata": {
  "kernelspec": {
   "display_name": "Python 3",
   "language": "python",
   "name": "python3"
  },
  "language_info": {
   "codemirror_mode": {
    "name": "ipython",
    "version": 3
   },
   "file_extension": ".py",
   "mimetype": "text/x-python",
   "name": "python",
   "nbconvert_exporter": "python",
   "pygments_lexer": "ipython3",
   "version": "3.4.2"
  }
 },
 "nbformat": 4,
 "nbformat_minor": 0
}
