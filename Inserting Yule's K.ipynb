{
 "cells": [
  {
   "cell_type": "code",
   "execution_count": 1,
   "metadata": {
    "collapsed": true
   },
   "outputs": [],
   "source": [
    "def makeFreqList (sceneWords):\n",
    "    freqList = [0]\n",
    "    wordToFreqDict = dict()\n",
    "    for word in sceneWords:\n",
    "        freq = 1\n",
    "        if word in wordToFreqDict:\n",
    "            oldFreq = wordToFreqDict[word]\n",
    "            freqList[oldFreq] -=1\n",
    "            freq = oldFreq+1\n",
    "            \n",
    "        wordToFreqDict[word] = freq\n",
    "            \n",
    "        if freq == len(freqList):\n",
    "            freqList.append(1)\n",
    "        else:\n",
    "            freqList[freq]+=1\n",
    "        \n",
    "    return freqList"
   ]
  },
  {
   "cell_type": "code",
   "execution_count": 2,
   "metadata": {
    "collapsed": true
   },
   "outputs": [],
   "source": [
    "from __future__ import division\n",
    "\n",
    "def makeYulesK (sceneWords):\n",
    "    N = len (sceneWords)\n",
    "    freqList = makeFreqList (sceneWords)\n",
    "    summation = 0\n",
    "    \n",
    "    for m in range (1, len(freqList)):\n",
    "        localProd = freqList[m] * m/N * m/N\n",
    "        summation += localProd\n",
    "\n",
    "    yulesK = -1/N + summation\n",
    "    return yulesK\n",
    "            "
   ]
  },
  {
   "cell_type": "markdown",
   "metadata": {},
   "source": [
    "#Schema\n",
    "Table name = yuleK\n",
    "CREATE TABLE YULEK( ID VARCHAR(10) PRIMARY KEY NOT NULL, PLAY VARCHAR(5) NOT NULL, ACT INT NOT NULL, SCENE INT NOT NULL, PLAY_TYPE VARCHAR(20) NOT NULL, yulek DOUBLE PRECISION NOT NULL);"
   ]
  },
  {
   "cell_type": "code",
   "execution_count": 14,
   "metadata": {
    "collapsed": true
   },
   "outputs": [],
   "source": [
    "import psycopg2\n",
    "\n",
    "def connectToDB():\n",
    "    try:\n",
    "        conn = psycopg2.connect(\"dbname='shakespeare' user='evelynting' host='localhost' password='password'\")\n",
    "        return conn\n",
    "    except:\n",
    "        print(\"couldn't connect to db\")"
   ]
  },
  {
   "cell_type": "code",
   "execution_count": 15,
   "metadata": {
    "collapsed": false
   },
   "outputs": [],
   "source": [
    "comedies = [\"Ado\", \"AYL\", \"Err\", \"MND\", \"Wiv\"]\n",
    "def putInDB( conn, play_name, scene, yulesK ):\n",
    "    cursor = conn.cursor()\n",
    "    act = scene[3]\n",
    "    info_end = len(scene) - 4\n",
    "    scene = scene[10 : info_end]\n",
    "    id = play_name+act+scene\n",
    "    play_type = \"comedy\" if play_name in comedies else \"tragedy\"\n",
    "    cursor.execute(\"INSERT INTO yulek (id, play, act, scene, play_type, yulek) VALUES (%s, %s, %s, %s, %s, %s)\", (id, play_name, act, scene, play_type, yulesK))\n",
    "    conn.commit()"
   ]
  },
  {
   "cell_type": "code",
   "execution_count": 16,
   "metadata": {
    "collapsed": true
   },
   "outputs": [],
   "source": [
    "import os\n",
    "import re\n",
    "def processPlays(dir_name, plays):\n",
    "    conn = connectToDB();\n",
    "    for play_name in plays:\n",
    "        play_dir = dir_name + '/' + play_name\n",
    "        scenes = [f for f in os.listdir(play_dir)]\n",
    "        for scene in scenes:\n",
    "            with open(play_dir + '/' + scene) as file:\n",
    "                text = file.read().lower()\n",
    "                file.close()\n",
    "                sceneWords = text.split()\n",
    "                K = makeYulesK( sceneWords )\n",
    "                putInDB(conn, play_name, scene, K)"
   ]
  },
  {
   "cell_type": "code",
   "execution_count": 18,
   "metadata": {
    "collapsed": false
   },
   "outputs": [],
   "source": [
    "dir_name = \"/Users/evelynting/Desktop/thesis/cleanPlays\"\n",
    "cleanPlays = [f for f in os.listdir(dir_name) ]\n",
    "processPlays(dir_name, cleanPlays)"
   ]
  }
 ],
 "metadata": {
  "kernelspec": {
   "display_name": "Python 3",
   "language": "python",
   "name": "python3"
  },
  "language_info": {
   "codemirror_mode": {
    "name": "ipython",
    "version": 3
   },
   "file_extension": ".py",
   "mimetype": "text/x-python",
   "name": "python",
   "nbconvert_exporter": "python",
   "pygments_lexer": "ipython3",
   "version": "3.4.2"
  }
 },
 "nbformat": 4,
 "nbformat_minor": 0
}
