{
 "cells": [
  {
   "cell_type": "markdown",
   "metadata": {},
   "source": [
    "# First Pass"
   ]
  },
  {
   "cell_type": "markdown",
   "metadata": {},
   "source": [
    "Goal:  Obtain the 100 most frequent words in 5 of Shakespeare's comedies and 5 of his tragedies.  Get the percentages that these words occur in the genre"
   ]
  },
  {
   "cell_type": "code",
   "execution_count": 2,
   "metadata": {
    "collapsed": false
   },
   "outputs": [],
   "source": [
    "import stopwords\n",
    "\n",
    "def filterWords(words):\n",
    "    filtered_words = [w for w in words if w not in stopwords.eng_words]\n",
    "    return filtered_words"
   ]
  },
  {
   "cell_type": "code",
   "execution_count": 3,
   "metadata": {
    "collapsed": true
   },
   "outputs": [],
   "source": [
    "import re\n",
    "\n",
    "def createListOfWords(dir_name, plays):\n",
    "    totalWordList = list()\n",
    "    for play_name in plays:\n",
    "        with open(dir_name + '/' + play_name) as f:\n",
    "            text = re.sub('[^a-z\\ \\']+', \" \",  f.read().lower())\n",
    "            words = list(text.split())\n",
    "            filtered_words = filterWords(words)\n",
    "            totalWordList += filtered_words\n",
    "    return totalWordList"
   ]
  },
  {
   "cell_type": "code",
   "execution_count": 4,
   "metadata": {
    "collapsed": false
   },
   "outputs": [],
   "source": [
    "import os\n",
    "\n",
    "dir_name = \"/Users/evelynting/Desktop/thesis/plays/comedy\"\n",
    "comedyPlays = [f for f in os.listdir(dir_name) ]\n",
    "comedyWords = createListOfWords(dir_name, comedyPlays)\n",
    "\n",
    "from nltk.probability import FreqDist\n",
    "comedy = FreqDist(comedyWords)\n",
    "common_comedy = comedy.most_common(100)"
   ]
  },
  {
   "cell_type": "code",
   "execution_count": 5,
   "metadata": {
    "collapsed": false
   },
   "outputs": [],
   "source": [
    "dir_name = \"/Users/evelynting/Desktop/thesis/plays/tragedy\"\n",
    "tragedyPlays = [f for f in os.listdir(dir_name) ]\n",
    "tragedyWords = createListOfWords(dir_name, tragedyPlays)\n",
    "\n",
    "from nltk.probability import FreqDist\n",
    "tragedy = FreqDist(tragedyWords)\n",
    "common_tragedy = tragedy.most_common(100)"
   ]
  },
  {
   "cell_type": "code",
   "execution_count": 6,
   "metadata": {
    "collapsed": false
   },
   "outputs": [],
   "source": [
    "comedydict = dict()\n",
    "totalComWordCount = len(comedyWords)\n",
    "totalTragWordCount = len(tragedyWords)\n",
    "for word in common_comedy:\n",
    "    comedydict[word[0]] = word[1]/totalComWordCount   "
   ]
  },
  {
   "cell_type": "code",
   "execution_count": 9,
   "metadata": {
    "collapsed": false
   },
   "outputs": [
    {
     "data": {
      "text/html": [
       "<div>\n",
       "<table border=\"1\" class=\"dataframe\">\n",
       "  <thead>\n",
       "    <tr style=\"text-align: right;\">\n",
       "      <th></th>\n",
       "      <th>percInComedy</th>\n",
       "      <th>percInTragedy</th>\n",
       "    </tr>\n",
       "    <tr>\n",
       "      <th>word</th>\n",
       "      <th></th>\n",
       "      <th></th>\n",
       "    </tr>\n",
       "  </thead>\n",
       "  <tbody>\n",
       "    <tr>\n",
       "      <th>lord</th>\n",
       "      <td>0.289868</td>\n",
       "      <td>0.821196</td>\n",
       "    </tr>\n",
       "    <tr>\n",
       "      <th>thy</th>\n",
       "      <td>0.643419</td>\n",
       "      <td>0.804740</td>\n",
       "    </tr>\n",
       "    <tr>\n",
       "      <th>come</th>\n",
       "      <td>0.827880</td>\n",
       "      <td>0.691187</td>\n",
       "    </tr>\n",
       "    <tr>\n",
       "      <th>let</th>\n",
       "      <td>0.562168</td>\n",
       "      <td>0.687896</td>\n",
       "    </tr>\n",
       "    <tr>\n",
       "      <th>good</th>\n",
       "      <td>0.867407</td>\n",
       "      <td>0.684605</td>\n",
       "    </tr>\n",
       "    <tr>\n",
       "      <th>sir</th>\n",
       "      <td>0.865211</td>\n",
       "      <td>0.572698</td>\n",
       "    </tr>\n",
       "    <tr>\n",
       "      <th>well</th>\n",
       "      <td>0.676358</td>\n",
       "      <td>0.567761</td>\n",
       "    </tr>\n",
       "    <tr>\n",
       "      <th>would</th>\n",
       "      <td>0.700514</td>\n",
       "      <td>0.554596</td>\n",
       "    </tr>\n",
       "    <tr>\n",
       "      <th>tis</th>\n",
       "      <td>0.270104</td>\n",
       "      <td>0.510162</td>\n",
       "    </tr>\n",
       "    <tr>\n",
       "      <th>hath</th>\n",
       "      <td>0.570952</td>\n",
       "      <td>0.464083</td>\n",
       "    </tr>\n",
       "    <tr>\n",
       "      <th>us</th>\n",
       "      <td>0.346963</td>\n",
       "      <td>0.449272</td>\n",
       "    </tr>\n",
       "    <tr>\n",
       "      <th>go</th>\n",
       "      <td>0.628047</td>\n",
       "      <td>0.444335</td>\n",
       "    </tr>\n",
       "    <tr>\n",
       "      <th>man</th>\n",
       "      <td>0.808116</td>\n",
       "      <td>0.432815</td>\n",
       "    </tr>\n",
       "    <tr>\n",
       "      <th>love</th>\n",
       "      <td>0.865211</td>\n",
       "      <td>0.427878</td>\n",
       "    </tr>\n",
       "    <tr>\n",
       "      <th>one</th>\n",
       "      <td>0.485309</td>\n",
       "      <td>0.350531</td>\n",
       "    </tr>\n",
       "    <tr>\n",
       "      <th>great</th>\n",
       "      <td>0.140542</td>\n",
       "      <td>0.260018</td>\n",
       "    </tr>\n",
       "    <tr>\n",
       "      <th>tell</th>\n",
       "      <td>0.353551</td>\n",
       "      <td>0.225459</td>\n",
       "    </tr>\n",
       "    <tr>\n",
       "      <th>pray</th>\n",
       "      <td>0.298652</td>\n",
       "      <td>0.185962</td>\n",
       "    </tr>\n",
       "  </tbody>\n",
       "</table>\n",
       "</div>"
      ],
      "text/plain": [
       "       percInComedy  percInTragedy\n",
       "word                              \n",
       "lord       0.289868       0.821196\n",
       "thy        0.643419       0.804740\n",
       "come       0.827880       0.691187\n",
       "let        0.562168       0.687896\n",
       "good       0.867407       0.684605\n",
       "sir        0.865211       0.572698\n",
       "well       0.676358       0.567761\n",
       "would      0.700514       0.554596\n",
       "tis        0.270104       0.510162\n",
       "hath       0.570952       0.464083\n",
       "us         0.346963       0.449272\n",
       "go         0.628047       0.444335\n",
       "man        0.808116       0.432815\n",
       "love       0.865211       0.427878\n",
       "one        0.485309       0.350531\n",
       "great      0.140542       0.260018\n",
       "tell       0.353551       0.225459\n",
       "pray       0.298652       0.185962"
      ]
     },
     "execution_count": 9,
     "metadata": {},
     "output_type": "execute_result"
    }
   ],
   "source": [
    "import pandas as pd\n",
    "\n",
    "comtragPairings = list()\n",
    "for word in common_tragedy:\n",
    "    key = word[0]\n",
    "    if key in comedydict and abs(comedydict[key] - word[1]/totalTragWordCount) > 0.001:\n",
    "        pairing = (key, comedydict[key]*100, word[1]/totalTragWordCount*100)\n",
    "        comtragPairings.append(pairing)\n",
    "df = pd.DataFrame(comtragPairings, columns = (\"word\", \"percInComedy\", \"percInTragedy\"))\n",
    "df = df.set_index([\"word\"])\n",
    "df"
   ]
  },
  {
   "cell_type": "markdown",
   "metadata": {},
   "source": [
    "Potential Problem:  \"Wife\" occurs significantly more in comedy than tragedy.  However, \"wife\" doesn't show up in the dataframe above because it comprises such a small percent of comedy.\n",
    "\n",
    "Perhaps, instead of finding pairs with significant difference through abs(comedyPercent - tragedyPercent) > 0.001, we can find significant pairs through abs(comedyPercent - tragedyPercent) / (comedyPercent + tragedyPercent) > 0.2"
   ]
  },
  {
   "cell_type": "code",
   "execution_count": 11,
   "metadata": {
    "collapsed": false
   },
   "outputs": [
    {
     "data": {
      "text/html": [
       "<div>\n",
       "<table border=\"1\" class=\"dataframe\">\n",
       "  <thead>\n",
       "    <tr style=\"text-align: right;\">\n",
       "      <th></th>\n",
       "      <th>percInComedy</th>\n",
       "      <th>percInTragedy</th>\n",
       "    </tr>\n",
       "    <tr>\n",
       "      <th>word</th>\n",
       "      <th></th>\n",
       "      <th></th>\n",
       "    </tr>\n",
       "  </thead>\n",
       "  <tbody>\n",
       "    <tr>\n",
       "      <th>lord</th>\n",
       "      <td>0.289868</td>\n",
       "      <td>0.821196</td>\n",
       "    </tr>\n",
       "    <tr>\n",
       "      <th>sir</th>\n",
       "      <td>0.865211</td>\n",
       "      <td>0.572698</td>\n",
       "    </tr>\n",
       "    <tr>\n",
       "      <th>tis</th>\n",
       "      <td>0.270104</td>\n",
       "      <td>0.510162</td>\n",
       "    </tr>\n",
       "    <tr>\n",
       "      <th>man</th>\n",
       "      <td>0.808116</td>\n",
       "      <td>0.432815</td>\n",
       "    </tr>\n",
       "    <tr>\n",
       "      <th>love</th>\n",
       "      <td>0.865211</td>\n",
       "      <td>0.427878</td>\n",
       "    </tr>\n",
       "    <tr>\n",
       "      <th>great</th>\n",
       "      <td>0.140542</td>\n",
       "      <td>0.260018</td>\n",
       "    </tr>\n",
       "    <tr>\n",
       "      <th>tell</th>\n",
       "      <td>0.353551</td>\n",
       "      <td>0.225459</td>\n",
       "    </tr>\n",
       "    <tr>\n",
       "      <th>pray</th>\n",
       "      <td>0.298652</td>\n",
       "      <td>0.185962</td>\n",
       "    </tr>\n",
       "    <tr>\n",
       "      <th>old</th>\n",
       "      <td>0.221793</td>\n",
       "      <td>0.146466</td>\n",
       "    </tr>\n",
       "    <tr>\n",
       "      <th>wife</th>\n",
       "      <td>0.210813</td>\n",
       "      <td>0.133300</td>\n",
       "    </tr>\n",
       "  </tbody>\n",
       "</table>\n",
       "</div>"
      ],
      "text/plain": [
       "       percInComedy  percInTragedy\n",
       "word                              \n",
       "lord       0.289868       0.821196\n",
       "sir        0.865211       0.572698\n",
       "tis        0.270104       0.510162\n",
       "man        0.808116       0.432815\n",
       "love       0.865211       0.427878\n",
       "great      0.140542       0.260018\n",
       "tell       0.353551       0.225459\n",
       "pray       0.298652       0.185962\n",
       "old        0.221793       0.146466\n",
       "wife       0.210813       0.133300"
      ]
     },
     "execution_count": 11,
     "metadata": {},
     "output_type": "execute_result"
    }
   ],
   "source": [
    "import pandas as pd\n",
    "\n",
    "comtragPairings = list()\n",
    "for word in common_tragedy:\n",
    "    key = word[0]\n",
    "    if key in comedydict:\n",
    "        comPercent = comedydict[key]\n",
    "        tragPercent = word[1]/totalTragWordCount\n",
    "        if abs(comPercent-tragPercent)/(comPercent+tragPercent) > 0.2:\n",
    "            pairing = (key, comedydict[key]*100, word[1]/totalTragWordCount*100)\n",
    "            comtragPairings.append(pairing)\n",
    "df = pd.DataFrame(comtragPairings, columns = (\"word\", \"percInComedy\", \"percInTragedy\"))\n",
    "df = df.set_index([\"word\"])\n",
    "df"
   ]
  },
  {
   "cell_type": "code",
   "execution_count": 12,
   "metadata": {
    "collapsed": false
   },
   "outputs": [],
   "source": [
    "%matplotlib inline\n",
    "tableau20 = [(31, 119, 180), (174, 199, 232), (255, 127, 14), (255, 187, 120),    \n",
    "             (44, 160, 44), (152, 223, 138), (214, 39, 40), (255, 152, 150),    \n",
    "             (148, 103, 189), (197, 176, 213), (140, 86, 75), (196, 156, 148),    \n",
    "             (227, 119, 194), (247, 182, 210), (127, 127, 127), (199, 199, 199),    \n",
    "             (188, 189, 34), (219, 219, 141), (23, 190, 207), (158, 218, 229)]    \n",
    "  \n",
    "# Scale the RGB values to the [0, 1] range, which is the format matplotlib accepts.    \n",
    "for i in range(len(tableau20)):    \n",
    "    r, g, b = tableau20[i]    \n",
    "    tableau20[i] = (r / 255., g / 255., b / 255.)"
   ]
  },
  {
   "cell_type": "code",
   "execution_count": 22,
   "metadata": {
    "collapsed": false
   },
   "outputs": [
    {
     "data": {
      "text/plain": [
       "<matplotlib.axes._subplots.AxesSubplot at 0x10e052b70>"
      ]
     },
     "execution_count": 22,
     "metadata": {},
     "output_type": "execute_result"
    },
    {
     "data": {
      "image/png": "[encoded data removed]",
      "text/plain": [
       "<matplotlib.figure.Figure at 0x10e0574a8>"
      ]
     },
     "metadata": {},
     "output_type": "display_data"
    }
   ],
   "source": [
    "from IPython.core.pylabtools import figsize\n",
    "from matplotlib import pyplot as plt\n",
    "plt.figure(figsize=(17, 10))    \n",
    "ax = plt.subplot(111)    \n",
    "ax.spines[\"top\"].set_visible(False)    \n",
    "ax.spines[\"bottom\"].set_visible(False)    \n",
    "ax.spines[\"right\"].set_visible(False)    \n",
    "ax.spines[\"left\"].set_visible(False)    \n",
    "  \n",
    "# Ensure that the axis ticks only show up on the bottom and left of the plot.    \n",
    "# Ticks on the right and top of the plot are generally unnecessary chartjunk.    \n",
    "ax.get_xaxis().tick_bottom()    \n",
    "ax.get_yaxis().tick_left()\n",
    "ax.set_title('Distinctive Comedy Words', fontsize= 20)\n",
    "ax.set_ylabel('Percent Word Appears in Text', fontsize = 16)\n",
    "ax.set_xlabel('Word', fontsize = 16)\n",
    "\n",
    "plt.xticks(fontsize=14, rotation=45)\n",
    "plt.yticks(fontsize=14)\n",
    "\n",
    "df = df.sort_values(by = 'percInComedy', ascending=0)\n",
    "#sort by percInComedy - percInTragedy\n",
    "#do a loc and plot that\n",
    "df.plot(kind = 'bar', ax=ax, lw=2.5, rot=45)"
   ]
  },
  {
   "cell_type": "code",
   "execution_count": 26,
   "metadata": {
    "collapsed": false
   },
   "outputs": [
    {
     "data": {
      "text/plain": [
       "<matplotlib.axes._subplots.AxesSubplot at 0x10dba55f8>"
      ]
     },
     "execution_count": 26,
     "metadata": {},
     "output_type": "execute_result"
    },
    {
     "data": {
      "image/png": "[encoded data removed]",
      "text/plain": [
       "<matplotlib.figure.Figure at 0x10dba5da0>"
      ]
     },
     "metadata": {},
     "output_type": "display_data"
    }
   ],
   "source": [
    "from IPython.core.pylabtools import figsize\n",
    "from matplotlib import pyplot as plt\n",
    "plt.figure(figsize=(17, 10))    \n",
    "ax = plt.subplot(111)    \n",
    "ax.spines[\"top\"].set_visible(False)    \n",
    "ax.spines[\"bottom\"].set_visible(False)    \n",
    "ax.spines[\"right\"].set_visible(False)    \n",
    "ax.spines[\"left\"].set_visible(False)    \n",
    "  \n",
    "# Ensure that the axis ticks only show up on the bottom and left of the plot.    \n",
    "# Ticks on the right and top of the plot are generally unnecessary chartjunk.    \n",
    "ax.get_xaxis().tick_bottom()    \n",
    "ax.get_yaxis().tick_left()\n",
    "ax.set_title('Distinctive Tragedy Words', fontsize= 20)\n",
    "ax.set_ylabel('Percent Word Appears in Text', fontsize = 16)\n",
    "ax.set_xlabel('Word', fontsize = 16)\n",
    "\n",
    "plt.xticks(fontsize=14, rotation=45)\n",
    "plt.yticks(fontsize=14)\n",
    "\n",
    "df = df.sort_values(by = 'percInTragedy', ascending=0)\n",
    "df.plot(kind = 'bar', ax=ax, lw=2.5, rot=45)"
   ]
  },
  {
   "cell_type": "code",
   "execution_count": null,
   "metadata": {
    "collapsed": true
   },
   "outputs": [],
   "source": []
  }
 ],
 "metadata": {
  "kernelspec": {
   "display_name": "Python 3",
   "language": "python",
   "name": "python3"
  },
  "language_info": {
   "codemirror_mode": {
    "name": "ipython",
    "version": 3
   },
   "file_extension": ".py",
   "mimetype": "text/x-python",
   "name": "python",
   "nbconvert_exporter": "python",
   "pygments_lexer": "ipython3",
   "version": "3.4.2"
  }
 },
 "nbformat": 4,
 "nbformat_minor": 0
}
