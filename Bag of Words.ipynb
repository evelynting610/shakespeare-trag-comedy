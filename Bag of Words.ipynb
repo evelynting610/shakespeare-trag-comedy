{
 "cells": [
  {
   "cell_type": "code",
   "execution_count": 4,
   "metadata": {
    "collapsed": false
   },
   "outputs": [],
   "source": [
    "import psycopg2\n",
    "\n",
    "try:\n",
    "    conn = psycopg2.connect(\"dbname='shakespeare' user='evelynting' host='localhost' password='password'\")\n",
    "except:\n",
    "    print(\"couldn't connect to db\")\n",
    "cursor = conn.cursor()"
   ]
  },
  {
   "cell_type": "code",
   "execution_count": 5,
   "metadata": {
    "collapsed": false
   },
   "outputs": [],
   "source": [
    "def createMassiveArray():\n",
    "    sqlString = \"SELECT words FROM plays;\"\n",
    "    cursor.execute(sqlString)\n",
    "    res = cursor.fetchall()\n",
    "    \n",
    "    for entry in res:\n",
    "        print (entry[0])"
   ]
  },
  {
   "cell_type": "code",
   "execution_count": 6,
   "metadata": {
    "collapsed": true
   },
   "outputs": [],
   "source": [
    "import os\n",
    "def listOfSceneWords(dir_name, plays):\n",
    "    sceneWords = list()\n",
    "    for play_name in plays:\n",
    "        play_dir = dir_name + '/' + play_name\n",
    "        scenes = [f for f in os.listdir(play_dir)]\n",
    "        for scene in scenes:\n",
    "            with open(play_dir + '/' + scene) as file:\n",
    "                text = file.read().lower()\n",
    "                sceneWords.append(text)\n",
    "    return sceneWords"
   ]
  },
  {
   "cell_type": "code",
   "execution_count": 7,
   "metadata": {
    "collapsed": false
   },
   "outputs": [],
   "source": [
    "dir_name = \"/Users/evelynting/Desktop/thesis/cleanPlays\"\n",
    "cleanPlays = [f for f in os.listdir(dir_name) ]\n",
    "clean_train_shakespeare = list()\n",
    "clean_train_shakespeare += listOfSceneWords(dir_name, cleanPlays)"
   ]
  },
  {
   "cell_type": "code",
   "execution_count": 8,
   "metadata": {
    "collapsed": false
   },
   "outputs": [
    {
     "name": "stdout",
     "output_type": "stream",
     "text": [
      "Creating the bag of words...\n",
      "\n",
      "100\n"
     ]
    },
    {
     "data": {
      "text/plain": [
       "array([[12,  6, 12, ...,  2, 61, 18],\n",
       "       [ 0,  0,  1, ...,  1,  9,  3],\n",
       "       [ 3,  7,  1, ...,  0, 13,  6],\n",
       "       ..., \n",
       "       [ 1,  0,  0, ...,  0,  2,  1],\n",
       "       [ 0,  0,  0, ...,  0,  2,  1],\n",
       "       [ 7, 11,  2, ...,  4, 40, 14]], dtype=int64)"
      ]
     },
     "execution_count": 8,
     "metadata": {},
     "output_type": "execute_result"
    }
   ],
   "source": [
    "print (\"Creating the bag of words...\\n\")\n",
    "from sklearn.feature_extraction.text import CountVectorizer\n",
    "\n",
    "# Initialize the \"CountVectorizer\" object, which is scikit-learn's\n",
    "# bag of words tool.  \n",
    "vectorizer = CountVectorizer(analyzer = \"word\",   \\\n",
    "                             tokenizer = None,    \\\n",
    "                             preprocessor = None, \\\n",
    "                             stop_words = None,   \\\n",
    "                             max_features = 100) \n",
    "\n",
    "train_data_features = vectorizer.fit_transform(clean_train_shakespeare)\n",
    "\n",
    "# Numpy arrays are easy to work with, so convert the result to an \n",
    "# array\n",
    "train_data = train_data_features.toarray()\n",
    "\n",
    "print (len(train_data[0]))\n",
    "train_data"
   ]
  },
  {
   "cell_type": "code",
   "execution_count": 5,
   "metadata": {
    "collapsed": false
   },
   "outputs": [
    {
     "data": {
      "text/plain": [
       "KMeans(algorithm='auto', copy_x=True, init='k-means++', max_iter=300,\n",
       "    n_clusters=2, n_init=10, n_jobs=1, precompute_distances='auto',\n",
       "    random_state=None, tol=0.0001, verbose=0)"
      ]
     },
     "execution_count": 5,
     "metadata": {},
     "output_type": "execute_result"
    }
   ],
   "source": [
    "from sklearn import cluster\n",
    "\n",
    "k = 2\n",
    "kmeans = cluster.KMeans(n_clusters= k)\n",
    "kmeans.fit(train_data)"
   ]
  },
  {
   "cell_type": "code",
   "execution_count": 6,
   "metadata": {
    "collapsed": false
   },
   "outputs": [],
   "source": [
    "labels = kmeans.labels_\n",
    "centroids = kmeans.cluster_centers_"
   ]
  },
  {
   "cell_type": "code",
   "execution_count": 7,
   "metadata": {
    "collapsed": false
   },
   "outputs": [
    {
     "data": {
      "image/png": "[encoded data removed]",
      "text/plain": [
       "<matplotlib.figure.Figure at 0x107cc9e48>"
      ]
     },
     "metadata": {},
     "output_type": "display_data"
    }
   ],
   "source": [
    "from matplotlib import pyplot\n",
    "import numpy as np\n",
    "\n",
    "for i in range(k):\n",
    "    # select only data observations with cluster label == i\n",
    "    ds = train_data[np.where(labels==i)]\n",
    "    # plot the data observations\n",
    "    pyplot.plot(ds[:,0],ds[:,1],'o')\n",
    "    # plot the centroids\n",
    "    lines = pyplot.plot(centroids[i,0],centroids[i,1],'kx')\n",
    "    # make the centroid x's bigger\n",
    "    pyplot.setp(lines,ms=15.0)\n",
    "    pyplot.setp(lines,mew=2.0)\n",
    "pyplot.show()"
   ]
  },
  {
   "cell_type": "code",
   "execution_count": null,
   "metadata": {
    "collapsed": true
   },
   "outputs": [],
   "source": []
  }
 ],
 "metadata": {
  "kernelspec": {
   "display_name": "Python 3",
   "language": "python",
   "name": "python3"
  },
  "language_info": {
   "codemirror_mode": {
    "name": "ipython",
    "version": 3
   },
   "file_extension": ".py",
   "mimetype": "text/x-python",
   "name": "python",
   "nbconvert_exporter": "python",
   "pygments_lexer": "ipython3",
   "version": "3.4.2"
  }
 },
 "nbformat": 4,
 "nbformat_minor": 1
}
