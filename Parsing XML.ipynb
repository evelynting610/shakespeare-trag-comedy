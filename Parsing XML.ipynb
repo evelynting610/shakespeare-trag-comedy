{
 "cells": [
  {
   "cell_type": "code",
   "execution_count": 5,
   "metadata": {
    "collapsed": true
   },
   "outputs": [],
   "source": [
    "play = 'Lr'"
   ]
  },
  {
   "cell_type": "code",
   "execution_count": 6,
   "metadata": {
    "collapsed": false
   },
   "outputs": [],
   "source": [
    "import xml.etree.ElementTree as ET\n",
    "tree = ET.parse('playsxml/'+play+'.xml')\n",
    "root = tree.getroot()"
   ]
  },
  {
   "cell_type": "code",
   "execution_count": 7,
   "metadata": {
    "collapsed": false
   },
   "outputs": [],
   "source": [
    "import re\n",
    "for act in root.findall('div1'):\n",
    "    actNum = act.get('n')\n",
    "    for scene in act.findall('div2'):\n",
    "        textName = \"act\"+actNum+\"_scene\"+scene.get('n')+\".txt\"\n",
    "        sceneText = open('cleanPlays/'+play+'/'+textName, 'w')\n",
    "        for speaker in scene.findall('sp'):\n",
    "            for prose in speaker.findall('ab'):\n",
    "                for word in prose.findall('w'):\n",
    "                    if word.text!=None:\n",
    "                        wordCleaned = re.sub('[^a-z\\ \\']+', \" \",  word.text.lower())\n",
    "                        sceneText.write(wordCleaned+\" \")\n",
    "    sceneText.close()"
   ]
  },
  {
   "cell_type": "markdown",
   "metadata": {},
   "source": [
    "#Schema\n",
    "\n",
    "Table name = plays\n",
    "\n",
    "CREATE TABLE PLAYS(\n",
    "   ID INT PRIMARY KEY     NOT NULL,\n",
    "   NAME           VARCHAR(20)    NOT NULL,\n",
    "   ACT            INT     NOT NULL,\n",
    "   SCENE          INT     NOT NULL,\n",
    "   WORDS         TEXT\n",
    ");"
   ]
  },
  {
   "cell_type": "markdown",
   "metadata": {},
   "source": [
    "Problem With Folger:  Doesn't encode Proper Nouns"
   ]
  },
  {
   "cell_type": "code",
   "execution_count": 70,
   "metadata": {
    "collapsed": false
   },
   "outputs": [],
   "source": [
    "import psycopg2\n",
    "\n",
    "try:\n",
    "    conn = psycopg2.connect(\"dbname='shakespeare' user='evelynting' host='localhost' password='password'\")\n",
    "except:\n",
    "    print(\"couldn't connect to db\")\n",
    "cursor = conn.cursor()"
   ]
  },
  {
   "cell_type": "code",
   "execution_count": 75,
   "metadata": {
    "collapsed": false
   },
   "outputs": [],
   "source": [
    "play = 'Oth'\n",
    "def insertIntoDB(actNum, sceneNum, words):\n",
    "    strSql = \"SELECT MAX(id) FROM plays;\"\n",
    "    cursor.execute(strSql)\n",
    "    maxId = cursor.fetchone()[0]\n",
    "    \n",
    "    if maxId == None:\n",
    "        \"hello\"\n",
    "        cursor.execute(\"INSERT INTO plays (id, name, act, scene, words) VALUES (%s, %s, %s, %s, %s)\", (1, play, 1, 1, words))\n",
    "    else:\n",
    "        print(maxId)\n",
    "        maxId = maxId+1\n",
    "        cursor.execute(\"INSERT INTO plays (id, name, act, scene) VALUES (%s, %s, %s, %s)\", (maxId, play, actNum, sceneNum))\n",
    "        \n",
    "    conn.commit()"
   ]
  },
  {
   "cell_type": "code",
   "execution_count": 76,
   "metadata": {
    "collapsed": false
   },
   "outputs": [
    {
     "name": "stdout",
     "output_type": "stream",
     "text": [
      "198\n",
      "199\n",
      "200\n",
      "201\n",
      "202\n",
      "203\n",
      "204\n",
      "205\n",
      "206\n",
      "207\n",
      "208\n",
      "209\n",
      "210\n",
      "211\n",
      "212\n"
     ]
    }
   ],
   "source": [
    "import xml.etree.ElementTree as ET\n",
    "tree = ET.parse('playsxml/'+play+'.xml')\n",
    "root = tree.getroot()\n",
    "\n",
    "for act in root.findall('div1'):\n",
    "    actNum = act.get('n')\n",
    "    for scene in act.findall('div2'):\n",
    "        sceneNum = scene.get('n')\n",
    "        words = str()\n",
    "        for speaker in scene.findall('sp'):\n",
    "            for prose in speaker.findall('ab'):\n",
    "                for word in prose.findall('w'):\n",
    "                    if word.text!=None:\n",
    "                        words += word.text+\" \"\n",
    "        insertIntoDB(actNum, sceneNum, words)"
   ]
  },
  {
   "cell_type": "markdown",
   "metadata": {
    "collapsed": true
   },
   "source": [
    "213 is the MAX(ID) of the database"
   ]
  },
  {
   "cell_type": "code",
   "execution_count": null,
   "metadata": {
    "collapsed": true
   },
   "outputs": [],
   "source": []
  }
 ],
 "metadata": {
  "kernelspec": {
   "display_name": "Python 3",
   "language": "python",
   "name": "python3"
  },
  "language_info": {
   "codemirror_mode": {
    "name": "ipython",
    "version": 3
   },
   "file_extension": ".py",
   "mimetype": "text/x-python",
   "name": "python",
   "nbconvert_exporter": "python",
   "pygments_lexer": "ipython3",
   "version": "3.4.2"
  }
 },
 "nbformat": 4,
 "nbformat_minor": 0
}
