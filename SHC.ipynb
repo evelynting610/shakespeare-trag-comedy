{
 "cells": [
  {
   "cell_type": "markdown",
   "metadata": {},
   "source": [
    "# How many nouns preceded by an adjective / num of nouns"
   ]
  },
  {
   "cell_type": "code",
   "execution_count": 24,
   "metadata": {
    "collapsed": true
   },
   "outputs": [],
   "source": [
    "play = 'wom_in_moon'"
   ]
  },
  {
   "cell_type": "code",
   "execution_count": 25,
   "metadata": {
    "collapsed": true
   },
   "outputs": [],
   "source": [
    "import xml.etree.ElementTree as ET\n",
    "tree = ET.parse('shcplays/'+play+'.xml')\n",
    "root = tree.getroot()"
   ]
  },
  {
   "cell_type": "code",
   "execution_count": 27,
   "metadata": {
    "collapsed": false
   },
   "outputs": [
    {
     "name": "stdout",
     "output_type": "stream",
     "text": [
      "adj count is  151\n",
      "noun count is  1143\n",
      "word count is  9177\n"
     ]
    }
   ],
   "source": [
    "adjNCount = 0\n",
    "lastPoS = \"\"\n",
    "nounCount = 0\n",
    "wordCount = 0\n",
    "\n",
    "for act in root.findall('div'):\n",
    "    actNum = act.get('n')\n",
    "    \n",
    "    for scene in act.findall('div'):\n",
    "        sceneNum = scene.get('n')\n",
    "        \n",
    "        for speaker in scene.findall('sp'):\n",
    "            for lg in speaker.findall('lg'):\n",
    "                for prose in lg.findall('l'):\n",
    "                    for word in prose.findall('w'):\n",
    "                        wordCount+=1\n",
    "                        pos = word.get('ana')\n",
    "                        if pos ==\"#n1\":\n",
    "                            nounCount+=1\n",
    "                        if pos == \"#n1\" and lastPoS == \"#j\":\n",
    "                            adjNCount += 1\n",
    "                        lastPoS = pos\n",
    "                    \n",
    "print (\"adj count is \", adjNCount)\n",
    "print (\"noun count is \", nounCount)\n",
    "print (\"word count is \", wordCount)"
   ]
  },
  {
   "cell_type": "code",
   "execution_count": 21,
   "metadata": {
    "collapsed": true
   },
   "outputs": [],
   "source": [
    "play = 'dr_faustus'"
   ]
  },
  {
   "cell_type": "code",
   "execution_count": 22,
   "metadata": {
    "collapsed": true
   },
   "outputs": [],
   "source": [
    "import xml.etree.ElementTree as ET\n",
    "tree = ET.parse('shcplays/'+play+'.xml')\n",
    "root = tree.getroot()"
   ]
  },
  {
   "cell_type": "code",
   "execution_count": 23,
   "metadata": {
    "collapsed": false
   },
   "outputs": [
    {
     "name": "stdout",
     "output_type": "stream",
     "text": [
      "adj count is  110\n",
      "noun count is  732\n",
      "word count is  5705\n"
     ]
    }
   ],
   "source": [
    "adjNCount = 0\n",
    "lastPoS = \"\"\n",
    "nounCount = 0\n",
    "wordCount = 0\n",
    "\n",
    "for bodyRoot in root.findall('div'):\n",
    "        \n",
    "    for speaker in bodyRoot.findall('sp'):\n",
    "        for prose in speaker.findall('l'):\n",
    "            for word in prose.findall('w'):\n",
    "                wordCount+=1\n",
    "                pos = word.get('ana')\n",
    "                if pos ==\"#n1\":\n",
    "                    nounCount+=1\n",
    "                if pos == \"#n1\" and lastPoS == \"#j\":\n",
    "                    adjNCount += 1\n",
    "                lastPoS = pos\n",
    "                    \n",
    "print (\"adj count is \", adjNCount)\n",
    "print (\"noun count is \", nounCount)\n",
    "print (\"word count is \", wordCount)"
   ]
  },
  {
   "cell_type": "markdown",
   "metadata": {
    "collapsed": true
   },
   "source": [
    "# Length of Sentences"
   ]
  },
  {
   "cell_type": "code",
   "execution_count": 29,
   "metadata": {
    "collapsed": true
   },
   "outputs": [],
   "source": [
    "play = 'wom_in_moon'"
   ]
  },
  {
   "cell_type": "code",
   "execution_count": 30,
   "metadata": {
    "collapsed": true
   },
   "outputs": [],
   "source": [
    "import xml.etree.ElementTree as ET\n",
    "tree = ET.parse('shcplays/'+play+'.xml')\n",
    "root = tree.getroot()"
   ]
  },
  {
   "cell_type": "code",
   "execution_count": 39,
   "metadata": {
    "collapsed": false
   },
   "outputs": [
    {
     "name": "stdout",
     "output_type": "stream",
     "text": [
      "average is  19.863636363636363\n"
     ]
    }
   ],
   "source": [
    "sentLengths = list()\n",
    "currSentLength = 0\n",
    "\n",
    "for act in root.findall('div'):\n",
    "    actNum = act.get('n')\n",
    "    \n",
    "    for scene in act.findall('div'):\n",
    "        sceneNum = scene.get('n')\n",
    "        \n",
    "        for speaker in scene.findall('sp'):\n",
    "            for lg in speaker.findall('lg'):\n",
    "                for prose in lg.findall('l'):\n",
    "                    for word in prose.findall('w'):\n",
    "                        currSentLength+=1\n",
    "                    for pc in prose.findall('pc'):\n",
    "                        if pc.get('unit') == \"sentence\":\n",
    "                            sentLengths.append(currSentLength)\n",
    "                            currSentLength = 0"
   ]
  },
  {
   "cell_type": "code",
   "execution_count": 43,
   "metadata": {
    "collapsed": false
   },
   "outputs": [
    {
     "name": "stdout",
     "output_type": "stream",
     "text": [
      "average is  19.8636363636\n",
      "standard dev is  14.3282792678\n"
     ]
    }
   ],
   "source": [
    "import numpy as np\n",
    "print (\"average is \", np.mean(sentLengths) )\n",
    "print (\"standard dev is \", np.std(sentLengths))"
   ]
  },
  {
   "cell_type": "code",
   "execution_count": 44,
   "metadata": {
    "collapsed": true
   },
   "outputs": [],
   "source": [
    "play = 'dr_faustus'"
   ]
  },
  {
   "cell_type": "code",
   "execution_count": 45,
   "metadata": {
    "collapsed": true
   },
   "outputs": [],
   "source": [
    "import xml.etree.ElementTree as ET\n",
    "tree = ET.parse('shcplays/'+play+'.xml')\n",
    "root = tree.getroot()"
   ]
  },
  {
   "cell_type": "code",
   "execution_count": 46,
   "metadata": {
    "collapsed": true
   },
   "outputs": [],
   "source": [
    "sentLengths = list()\n",
    "currSentLength = 0\n",
    "\n",
    "for bodyRoot in root.findall('div'):\n",
    "        \n",
    "    for speaker in bodyRoot.findall('sp'):\n",
    "        for prose in speaker.findall('l'):\n",
    "            for word in prose.findall('w'):\n",
    "                currSentLength+=1\n",
    "            for pc in prose.findall('pc'):\n",
    "                if pc.get('unit') == \"sentence\":\n",
    "                    sentLengths.append(currSentLength)\n",
    "                    currSentLength = 0                "
   ]
  },
  {
   "cell_type": "code",
   "execution_count": 47,
   "metadata": {
    "collapsed": false
   },
   "outputs": [
    {
     "name": "stdout",
     "output_type": "stream",
     "text": [
      "average is  25.814479638\n",
      "standard dev is  26.0522789465\n"
     ]
    }
   ],
   "source": [
    "import numpy as np\n",
    "print (\"average is \", np.mean(sentLengths) )\n",
    "print (\"standard dev is \", np.std(sentLengths))"
   ]
  },
  {
   "cell_type": "markdown",
   "metadata": {},
   "source": [
    "# Taking care of anxieties thru \"verb not\" construction"
   ]
  },
  {
   "cell_type": "code",
   "execution_count": 68,
   "metadata": {
    "collapsed": true
   },
   "outputs": [],
   "source": [
    "play = 'wom_in_moon'\n",
    "import xml.etree.ElementTree as ET\n",
    "tree = ET.parse('shcplays/'+play+'.xml')\n",
    "root = tree.getroot()"
   ]
  },
  {
   "cell_type": "code",
   "execution_count": 69,
   "metadata": {
    "collapsed": false
   },
   "outputs": [
    {
     "name": "stdout",
     "output_type": "stream",
     "text": [
      "will   not\n",
      "know   not\n",
      "can   not\n",
      "must   not\n",
      "let   not\n",
      "be|it   not\n",
      "may   not\n",
      "do   not\n",
      "be   not\n",
      "dare   not\n",
      "be   not\n",
      "will   not\n",
      "wot   not\n",
      "will   not\n",
      "dare   not\n",
      "will   not\n",
      "dare   not\n",
      "know   not\n",
      "shall   not\n",
      "shall   not\n",
      "can   not\n",
      "come   not\n",
      "droop   not\n",
      "have   not\n",
      "be   not\n",
      "love   not\n",
      "shall   not\n",
      "come   not\n",
      "hide   not\n",
      "come   not\n",
      "like   not\n",
      "will   not\n",
      "love   not\n",
      "be   not\n",
      "need   not\n",
      "will   not\n",
      "be   not\n",
      "run   not\n",
      "shall   not\n",
      "shall   not\n",
      "love   not\n",
      "shall   not\n",
      "have   not\n",
      "grieve   not\n",
      "be   not\n",
      "anxiety count is  45\n",
      "word count is  9177\n"
     ]
    }
   ],
   "source": [
    "lastPoS = \"\"\n",
    "lastWord = \"\"\n",
    "aCount = 0\n",
    "wordCount = 0\n",
    "\n",
    "for act in root.findall('div'):\n",
    "    actNum = act.get('n')\n",
    "    \n",
    "    for scene in act.findall('div'):\n",
    "        sceneNum = scene.get('n')\n",
    "        \n",
    "        for speaker in scene.findall('sp'):\n",
    "            for lg in speaker.findall('lg'):\n",
    "                for prose in lg.findall('l'):\n",
    "                    for word in prose.findall('w'):\n",
    "                        wordCount+=1\n",
    "                        pos = word.get('ana')\n",
    "                        if pos == \"#xx\" and lastPoS[1] == \"v\" and lastPoS != \"#vvd\":\n",
    "                            print (lastWord, \" \", word.text)\n",
    "                            aCount += 1\n",
    "                        lastPoS = pos\n",
    "                        lastWord = word.get('lemma')\n",
    "                    \n",
    "print (\"anxiety count is \", refCount)\n",
    "print (\"word count is \", wordCount)"
   ]
  },
  {
   "cell_type": "code",
   "execution_count": 70,
   "metadata": {
    "collapsed": true
   },
   "outputs": [],
   "source": [
    "play = 'dr_faustus'\n",
    "import xml.etree.ElementTree as ET\n",
    "tree = ET.parse('shcplays/'+play+'.xml')\n",
    "root = tree.getroot()"
   ]
  },
  {
   "cell_type": "code",
   "execution_count": 71,
   "metadata": {
    "collapsed": false
   },
   "outputs": [
    {
     "name": "stdout",
     "output_type": "stream",
     "text": [
      "be   not\n",
      "be   not\n",
      "gaze   not\n",
      "doubt   not\n",
      "fear   not\n",
      "will   not\n",
      "may   not\n",
      "terrify   not\n",
      "be   not\n",
      "shall   not\n",
      "go   not\n",
      "be|it   not\n",
      "be   not\n",
      "will   not\n",
      "shall   not\n",
      "be   not\n",
      "have   not\n",
      "have   not\n",
      "know   not\n",
      "be   not\n",
      "be|it   not\n",
      "shall   not\n",
      "will   not\n",
      "be   not\n",
      "rend   not\n",
      "will   not\n",
      "will   not\n",
      "look   not\n",
      "gape   not\n",
      "come   not\n",
      "anxiety count is  45\n",
      "word count is  5705\n"
     ]
    }
   ],
   "source": [
    "lastPoS = \"\"\n",
    "lastWord = \"\"\n",
    "aCount = 0\n",
    "wordCount = 0\n",
    "\n",
    "for bodyRoot in root.findall('div'):\n",
    "        \n",
    "    for speaker in bodyRoot.findall('sp'):\n",
    "        for prose in speaker.findall('l'):\n",
    "            for word in prose.findall('w'):\n",
    "                wordCount+=1\n",
    "                pos = word.get('ana')\n",
    "                if pos == \"#xx\" and len(lastPoS)>1 and lastPoS[1] == \"v\" and lastPoS != \"#vvd\":\n",
    "                    print (lastWord, \" \", word.text)\n",
    "                    aCount += 1\n",
    "                lastPoS = pos\n",
    "                lastWord = word.get('lemma')\n",
    "                    \n",
    "print (\"anxiety count is \", refCount)\n",
    "print (\"word count is \", wordCount)"
   ]
  },
  {
   "cell_type": "code",
   "execution_count": null,
   "metadata": {
    "collapsed": true
   },
   "outputs": [],
   "source": []
  }
 ],
 "metadata": {
  "kernelspec": {
   "display_name": "Python 3",
   "language": "python",
   "name": "python3"
  },
  "language_info": {
   "codemirror_mode": {
    "name": "ipython",
    "version": 3
   },
   "file_extension": ".py",
   "mimetype": "text/x-python",
   "name": "python",
   "nbconvert_exporter": "python",
   "pygments_lexer": "ipython3",
   "version": "3.4.2"
  }
 },
 "nbformat": 4,
 "nbformat_minor": 0
}
